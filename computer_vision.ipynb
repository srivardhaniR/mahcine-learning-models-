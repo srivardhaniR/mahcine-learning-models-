{
 "cells": [
  {
   "cell_type": "code",
   "execution_count": 7,
   "id": "9de4c935-5f0e-4393-885f-9e157325c8a9",
   "metadata": {},
   "outputs": [
    {
     "name": "stdout",
     "output_type": "stream",
     "text": [
      "Collecting opencv-python\n",
      "  Using cached opencv_python-4.11.0.86-cp37-abi3-win_amd64.whl (39.5 MB)\n",
      "Requirement already satisfied: numpy>=1.17.0 in c:\\users\\sri vardhani\\anaconda3\\lib\\site-packages (from opencv-python) (1.26.4)\n",
      "Installing collected packages: opencv-python\n",
      "Successfully installed opencv-python-4.11.0.86\n"
     ]
    }
   ],
   "source": [
    "!pip install opencv-python"
   ]
  },
  {
   "cell_type": "code",
   "execution_count": 8,
   "id": "4d99389a",
   "metadata": {},
   "outputs": [
    {
     "name": "stdout",
     "output_type": "stream",
     "text": [
      "Requirement already satisfied: mediapipe in c:\\users\\sri vardhani\\anaconda3\\lib\\site-packages (0.10.21)\n",
      "Requirement already satisfied: jax in c:\\users\\sri vardhani\\anaconda3\\lib\\site-packages (from mediapipe) (0.4.30)\n",
      "Requirement already satisfied: numpy<2 in c:\\users\\sri vardhani\\anaconda3\\lib\\site-packages (from mediapipe) (1.26.4)\n",
      "Requirement already satisfied: sounddevice>=0.4.4 in c:\\users\\sri vardhani\\anaconda3\\lib\\site-packages (from mediapipe) (0.5.2)\n",
      "Requirement already satisfied: sentencepiece in c:\\users\\sri vardhani\\anaconda3\\lib\\site-packages (from mediapipe) (0.2.0)\n",
      "Requirement already satisfied: opencv-contrib-python in c:\\users\\sri vardhani\\anaconda3\\lib\\site-packages (from mediapipe) (4.11.0.86)\n",
      "Requirement already satisfied: attrs>=19.1.0 in c:\\users\\sri vardhani\\anaconda3\\lib\\site-packages (from mediapipe) (21.4.0)\n",
      "Requirement already satisfied: matplotlib in c:\\users\\sri vardhani\\anaconda3\\lib\\site-packages (from mediapipe) (3.5.1)\n",
      "Requirement already satisfied: protobuf<5,>=4.25.3 in c:\\users\\sri vardhani\\anaconda3\\lib\\site-packages (from mediapipe) (4.25.8)\n",
      "Requirement already satisfied: flatbuffers>=2.0 in c:\\users\\sri vardhani\\anaconda3\\lib\\site-packages (from mediapipe) (25.2.10)\n",
      "Requirement already satisfied: jaxlib in c:\\users\\sri vardhani\\anaconda3\\lib\\site-packages (from mediapipe) (0.4.30)\n",
      "Requirement already satisfied: absl-py in c:\\users\\sri vardhani\\anaconda3\\lib\\site-packages (from mediapipe) (2.3.0)\n",
      "Requirement already satisfied: CFFI>=1.0 in c:\\users\\sri vardhani\\anaconda3\\lib\\site-packages (from sounddevice>=0.4.4->mediapipe) (1.15.0)\n",
      "Requirement already satisfied: pycparser in c:\\users\\sri vardhani\\anaconda3\\lib\\site-packages (from CFFI>=1.0->sounddevice>=0.4.4->mediapipe) (2.21)\n",
      "Requirement already satisfied: scipy>=1.9 in c:\\users\\sri vardhani\\anaconda3\\lib\\site-packages (from jax->mediapipe) (1.13.1)\n",
      "Requirement already satisfied: importlib-metadata>=4.6 in c:\\users\\sri vardhani\\anaconda3\\lib\\site-packages (from jax->mediapipe) (4.11.3)\n",
      "Requirement already satisfied: ml-dtypes>=0.2.0 in c:\\users\\sri vardhani\\anaconda3\\lib\\site-packages (from jax->mediapipe) (0.5.1)\n",
      "Requirement already satisfied: opt-einsum in c:\\users\\sri vardhani\\anaconda3\\lib\\site-packages (from jax->mediapipe) (3.4.0)\n",
      "Requirement already satisfied: zipp>=0.5 in c:\\users\\sri vardhani\\anaconda3\\lib\\site-packages (from importlib-metadata>=4.6->jax->mediapipe) (3.7.0)\n",
      "Requirement already satisfied: cycler>=0.10 in c:\\users\\sri vardhani\\anaconda3\\lib\\site-packages (from matplotlib->mediapipe) (0.11.0)\n",
      "Requirement already satisfied: kiwisolver>=1.0.1 in c:\\users\\sri vardhani\\anaconda3\\lib\\site-packages (from matplotlib->mediapipe) (1.3.2)\n",
      "Requirement already satisfied: pillow>=6.2.0 in c:\\users\\sri vardhani\\anaconda3\\lib\\site-packages (from matplotlib->mediapipe) (9.0.1)\n",
      "Requirement already satisfied: fonttools>=4.22.0 in c:\\users\\sri vardhani\\anaconda3\\lib\\site-packages (from matplotlib->mediapipe) (4.25.0)\n",
      "Requirement already satisfied: python-dateutil>=2.7 in c:\\users\\sri vardhani\\anaconda3\\lib\\site-packages (from matplotlib->mediapipe) (2.8.2)\n",
      "Requirement already satisfied: packaging>=20.0 in c:\\users\\sri vardhani\\anaconda3\\lib\\site-packages (from matplotlib->mediapipe) (21.3)\n",
      "Requirement already satisfied: pyparsing>=2.2.1 in c:\\users\\sri vardhani\\anaconda3\\lib\\site-packages (from matplotlib->mediapipe) (3.0.4)\n",
      "Requirement already satisfied: six>=1.5 in c:\\users\\sri vardhani\\anaconda3\\lib\\site-packages (from python-dateutil>=2.7->matplotlib->mediapipe) (1.16.0)\n"
     ]
    }
   ],
   "source": [
    "!pip install mediapipe"
   ]
  },
  {
   "cell_type": "code",
   "execution_count": 2,
   "id": "8a9b1e36-0071-4843-8344-d844891da47a",
   "metadata": {},
   "outputs": [],
   "source": [
    "import cv2\n",
    "import os"
   ]
  },
  {
   "cell_type": "code",
   "execution_count": null,
   "id": "4ae97a67-c768-42f7-96f9-a03d9cfc5dcf",
   "metadata": {},
   "outputs": [],
   "source": [
    "//image"
   ]
  },
  {
   "cell_type": "code",
   "execution_count": 3,
   "id": "79fa9f8c-441c-4392-9463-61e5a0bc901f",
   "metadata": {},
   "outputs": [],
   "source": [
    "image_path=os.path.join('Harry_Potter.jpg')"
   ]
  },
  {
   "cell_type": "code",
   "execution_count": 8,
   "id": "53376bc3-1e3d-4934-904d-31ad916e5f8e",
   "metadata": {},
   "outputs": [],
   "source": [
    "import os\n",
    "import cv2\n",
    "\n",
    "image_path = os.path.join('Harry_Potter.jpg')\n",
    "\n",
    "img = cv2.imread(image_path)\n",
    "cv2.imshow('harry_potter', img)\n",
    "cv2.waitKey(0)\n",
    "cv2.destroyAllWindows()\n"
   ]
  },
  {
   "cell_type": "code",
   "execution_count": null,
   "id": "6291cb33-cd60-4ae9-b76f-6e6a3cd9389e",
   "metadata": {},
   "outputs": [],
   "source": [
    "//video"
   ]
  },
  {
   "cell_type": "code",
   "execution_count": 2,
   "id": "4ada61ef-562e-4560-a6af-3822259cc71b",
   "metadata": {},
   "outputs": [],
   "source": [
    "import cv2\n",
    "import os\n",
    "video_path=os.path.join('owl.mp4')\n",
    "video=cv2.VideoCapture(video_path)\n",
    "ret=True\n",
    "while ret:\n",
    "    ret, frame=video.read()\n",
    "    if ret:\n",
    "        cv2.imshow('frames',frame)\n",
    "        cv2.waitKey(40)\n",
    "video.release()\n",
    "cv2.destroyAllWindows()\n",
    "    "
   ]
  },
  {
   "cell_type": "code",
   "execution_count": null,
   "id": "83c65858-14d6-4c48-9cc7-54fe0687c414",
   "metadata": {},
   "outputs": [],
   "source": [
    "//webcam"
   ]
  },
  {
   "cell_type": "code",
   "execution_count": 1,
   "id": "a5a78111-3da2-48f3-b84f-bd04c36d16b8",
   "metadata": {},
   "outputs": [],
   "source": [
    "import cv2\n",
    "ret=True\n",
    "webcam=cv2.VideoCapture(0)\n",
    "while True:\n",
    "    ret, frame=webcam.read()\n",
    "    cv2.imshow('webcam',frame) \n",
    "    if cv2.waitKey(40) & 0xFF == ord('q'):\n",
    "        break\n",
    "    \n",
    "webcam.release()\n",
    "cv2.destroyAllWindows()"
   ]
  },
  {
   "cell_type": "code",
   "execution_count": null,
   "id": "2812a413-588a-4ea1-bf60-eac321ba4478",
   "metadata": {},
   "outputs": [],
   "source": [
    "//operations"
   ]
  },
  {
   "cell_type": "code",
   "execution_count": null,
   "id": "bbe40987-85ce-403c-9649-351585f1504f",
   "metadata": {},
   "outputs": [
    {
     "name": "stdout",
     "output_type": "stream",
     "text": [
      "original_shape (372, 250, 3)\n",
      "resized_shape (480, 640, 3)\n"
     ]
    }
   ],
   "source": [
    "import cv2\n",
    "import os\n",
    "image_path=os.path.join('Harry_Potter.jpg')\n",
    "img=cv2.imread(image_path)\n",
    "cv2.imshow('harry',img)\n",
    "print(\"original_shape\",img.shape)\n",
    "resized_img=cv2.resize(img,(640,480))\n",
    "cv2.imshow('after_resized',resized_img)\n",
    "print(\"resized_shape\",resized_img.shape)\n",
    "cv2.waitKey(0)\n",
    "cv2.destroyAllWindows()\n",
    "\n",
    "\n"
   ]
  },
  {
   "cell_type": "code",
   "execution_count": null,
   "id": "0cde334e-e96e-4e31-9b7d-be74bc013121",
   "metadata": {},
   "outputs": [],
   "source": [
    "//croping the image"
   ]
  },
  {
   "cell_type": "code",
   "execution_count": 17,
   "id": "a9d8d767-eb00-4e62-b17f-14a609fc659d",
   "metadata": {},
   "outputs": [
    {
     "name": "stdout",
     "output_type": "stream",
     "text": [
      "(372, 250, 3)\n",
      "(142, 135, 3)\n"
     ]
    }
   ],
   "source": [
    "import cv2\n",
    "import os\n",
    "image=cv2.imread(os.path.join('Harry_Potter.jpg'))\n",
    "print(image.shape)\n",
    "cv2.imshow('Harry',image)\n",
    "#lets crop so that we only get the face of harry\n",
    "crop_img=image[50:192,45:180]# image[staring row: to ending row, start column:ending row] we want formthe image\n",
    "print(crop_img.shape)\n",
    "cv2.imshow('Face',crop_img)\n",
    "cv2.waitKey(0)\n",
    "cv2.destroyAllWindows()"
   ]
  },
  {
   "cell_type": "code",
   "execution_count": 18,
   "id": "e2d6e0fd-317a-410c-94d0-be70ad60567c",
   "metadata": {},
   "outputs": [],
   "source": [
    "// Colorspaces"
   ]
  },
  {
   "cell_type": "code",
   "execution_count": 24,
   "id": "3189a798-c074-403d-b7df-0c89e9a45fe5",
   "metadata": {},
   "outputs": [
    {
     "name": "stdout",
     "output_type": "stream",
     "text": [
      "(372, 250, 3)\n"
     ]
    }
   ],
   "source": [
    "import cv2\n",
    "import os\n",
    "image=cv2.imread(os.path.join('Harry_Potter.jpg'))\n",
    "print(image.shape)\n",
    "cv2.imshow('Harry',image)\n",
    "cv2.waitKey(0)\n",
    "rgb_img=cv2.cvtColor(image,cv2.COLOR_BGR2RGB)\n",
    "cv2.imshow('Harry',rgb_img)\n",
    "cv2.waitKey(0)\n",
    "gray_img=cv2.cvtColor(image,cv2.COLOR_BGR2GRAY)\n",
    "cv2.imshow('Harry',gray_img)\n",
    "cv2.waitKey(0)\n",
    "hsv_img=cv2.cvtColor(image,cv2.COLOR_BGR2HSV)\n",
    "cv2.imshow('Harry',hsv_img)\n",
    "cv2.waitKey()\n",
    "cv2.destroyAllWindows()"
   ]
  },
  {
   "cell_type": "code",
   "execution_count": 26,
   "id": "401de9c5-b5c5-4ff5-b0f1-9f42513de996",
   "metadata": {},
   "outputs": [],
   "source": [
    "// Blurring the image\n",
    "it is used to remove noise from our image\n",
    "type: \n",
    ">blur()\n",
    ">gaussian blur()\n",
    ">median blur()\n",
    ">bilateral filter()\n"
   ]
  },
  {
   "cell_type": "code",
   "execution_count": 7,
   "id": "9ce167b9-71a2-4a5b-94aa-abff9c2acf72",
   "metadata": {},
   "outputs": [],
   "source": [
    "import cv2\n",
    "import os\n",
    "image=cv2.imread(os.path.join('banana.jpg'))\n",
    "k_size=7 #larger the value lower the blur\n",
    "blur_img=cv2.blur(image,(k_size,k_size))\n",
    "blur_2img=cv2.GaussianBlur(image,(k_size,k_size),3)\n",
    "cv2.imshow('original',image)\n",
    "cv2.imshow('blurred image 1',blur_img)\n",
    "cv2.imshow('blurred image2',blur_2img)\n",
    "cv2.waitKey(0)\n",
    "cv2.destroyAllWindows()"
   ]
  },
  {
   "cell_type": "code",
   "execution_count": null,
   "id": "0e6a700a-1fd9-48e7-b0af-b7e18007e2ba",
   "metadata": {},
   "outputs": [],
   "source": [
    "//Thresholding\n",
    "we convert the color image to a binary color(black and white) image\n",
    "we use thresholding to separate the object from the background\n"
   ]
  },
  {
   "cell_type": "code",
   "execution_count": 19,
   "id": "62ed8df8-da43-4362-a115-81f6db4d7fda",
   "metadata": {},
   "outputs": [],
   "source": [
    "import cv2\n",
    "import os\n",
    "image=cv2.imread(os.path.join('letter.webp'))\n",
    "image_gray=cv2.cvtColor(image,cv2.COLOR_BGR2GRAY)\n",
    "ret, thresholding_img=cv2.threshold(image_gray,180,255,cv2.THRESH_BINARY) #it is a simple threshold\n",
    "cv2.imshow('original', image)\n",
    "cv2.imshow('gray_scale',image_gray)\n",
    "cv2.imshow('threshold_img',thresholding_img)\n",
    "cv2.waitKey(0)\n",
    "cv2.destroyAllWindows()"
   ]
  },
  {
   "cell_type": "code",
   "execution_count": 22,
   "id": "c8178509-b5e8-4c35-a6b5-3e0f5fe67631",
   "metadata": {},
   "outputs": [],
   "source": [
    "# ADAPTIVE THRESHOLD\n",
    "import cv2\n",
    "import os\n",
    "image=cv2.imread(os.path.join('letter.webp'))\n",
    "image_gray=cv2.cvtColor(image,cv2.COLOR_BGR2GRAY)\n",
    "thresholding_img=cv2.adaptiveThreshold(image_gray,255,cv2.ADAPTIVE_THRESH_GAUSSIAN_C, cv2.THRESH_BINARY,15,25) #it is a adaptive threshold where the threshold value will be adjusted by itself\n",
    "cv2.imshow('original', image) # thsi threshold often used when there is a light interuption\n",
    "cv2.imshow('gray_scale',image_gray)\n",
    "cv2.imshow('threshold_img',thresholding_img)\n",
    "cv2.waitKey(0)\n",
    "cv2.destroyAllWindows()"
   ]
  },
  {
   "cell_type": "code",
   "execution_count": null,
   "id": "380c1633-c15b-40a6-8c73-318450bbfdc7",
   "metadata": {},
   "outputs": [],
   "source": [
    "//EDGE DETECTION\n",
    "to implement it we can use\n",
    " types : sobel operator, laplace , canny edge detector\n"
   ]
  },
  {
   "cell_type": "code",
   "execution_count": 12,
   "id": "9baf12e1-f10b-461c-8e5c-6a03a5c0b4fb",
   "metadata": {},
   "outputs": [],
   "source": [
    "import cv2\n",
    "import os\n",
    "import numpy as np\n",
    "image=cv2.imread(os.path.join('MS_Dhoni.png'))\n",
    "cropped_img=image[200:900,50:680]\n",
    "edge_detect=cv2.Canny(cropped_img,100,300)\n",
    "dilate_img=cv2.dilate(edge_detect,np.ones((3,3),dtype=np.int8))\n",
    "erode_img=cv2.erode(dilate_img,np.ones((3,3),dtype=np.int8))\n",
    "cv2.imshow('cropped',cropped_img)\n",
    "cv2.imshow('edge',edge_detect)\n",
    "cv2.imshow('dilate',dilate_img)\n",
    "cv2.imshow('erode',erode_img)\n",
    "cv2.waitKey(0)\n",
    "cv2.destroyAllWindows()"
   ]
  },
  {
   "cell_type": "code",
   "execution_count": null,
   "id": "1445e0e1-297d-45d0-a042-668d1fe5fabc",
   "metadata": {},
   "outputs": [],
   "source": [
    "//DRAWING ON TOP OF IMAGE"
   ]
  },
  {
   "cell_type": "code",
   "execution_count": 28,
   "id": "0dfd4852-1d58-4003-a158-5040a4b8d251",
   "metadata": {},
   "outputs": [
    {
     "name": "stdout",
     "output_type": "stream",
     "text": [
      "(300, 299, 3)\n"
     ]
    }
   ],
   "source": [
    "import cv2\n",
    "import os\n",
    "import numpy as np\n",
    "image=cv2.imread(os.path.join('board.webp'))\n",
    "print(image.shape)\n",
    "cv2.line(image,(100,100),(180,250),(0,255,0),3)\n",
    "#line(coordinate of starting point of line, ending point of line, color , thickness)\n",
    "cv2.rectangle(image,(100,100),(150,150),(250,100,1),3) \n",
    "#ractangle(image , coordinate of top left,bottom right,color,thickness)\n",
    "cv2.putText(image,'hello am vardhu',(50,50),cv2.FONT_HERSHEY_SIMPLEX,0.5,(255,255,0),2)\n",
    "#puttext(image, text to display,coordinate,font style, size of font,color of font,thickness)\n",
    "cv2.imshow('white_board',image)\n",
    "cv2.waitKey(0)\n",
    "cv2.destroyAllWindows()"
   ]
  },
  {
   "cell_type": "code",
   "execution_count": null,
   "id": "da97b75f-7dae-478e-9223-8a90c0ce79e4",
   "metadata": {},
   "outputs": [],
   "source": [
    "//color detection"
   ]
  },
  {
   "cell_type": "code",
   "execution_count": null,
   "id": "777ce947-eac4-4ae1-9596-5cb17ba16327",
   "metadata": {},
   "outputs": [],
   "source": [
    "    "
   ]
  },
  {
   "cell_type": "code",
   "execution_count": 17,
   "id": "4df021ac-bade-4eee-ab42-6104b75f47c0",
   "metadata": {},
   "outputs": [],
   "source": [
    "import cv2\n",
    "from PIL import Image\n",
    "import numpy as np\n",
    "def get_limits(color):\n",
    "    c=np.uint8([[color]])\n",
    "    hsvC=cv2.cvtColor(c,cv2.COLOR_BGR2HSV)\n",
    "    lwr=hsvC[0][0][0]-10,100,100\n",
    "    upr=hsvC[0][0][0]+10,255,255\n",
    "    lowr_lmt=np.array(lwr,dtype=np.uint8)\n",
    "    uppr_lmt=np.array(upr,dtype=np.uint8)\n",
    "    return lowr_lmt, uppr_lmt\n",
    "    \n",
    "\n",
    "yellow=[0,255,255] # yellow in rgb color space\n",
    "cap=cv2.VideoCapture(0)\n",
    "while True:\n",
    "    ret,frame=cap.read()\n",
    "    hsv_img= cv2.cvtColor(frame,cv2.COLOR_BGR2HSV)\n",
    "    lwr_lmt, upr_lmt=get_limits(color=yellow)\n",
    "    mask=cv2.inRange(hsv_img,lwr_lmt,upr_lmt)\n",
    "    masked=Image.fromarray(mask)\n",
    "    bbox=masked.getbbox()\n",
    "    if bbox is not None:\n",
    "        x1,y1,x2,y2=bbox\n",
    "        frame=cv2.rectangle(frame,(x1,y1),(x2,y2),(0,255,0),2) \n",
    "    cv2.imshow('frame',frame)\n",
    "    if cv2.waitKey(1) & 0xFF== ord('q'):\n",
    "        break\n",
    "cap.release()\n",
    "cv2.destroyAllWindows()\n"
   ]
  },
  {
   "cell_type": "code",
   "execution_count": 12,
   "id": "bab8ebb7-2c1c-4707-86d1-427b899425d0",
   "metadata": {},
   "outputs": [],
   "source": [
    "import cv2\n",
    "import os\n",
    "import mediapipe as mp\n",
    "from IPython.display import display, Image\n",
    "\n",
    "face_detect=mp.solutions.face_detection\n",
    "drawing=mp.solutions.drawing_utils\n",
    "face_detection=face_detect.FaceDetection(model_selection=0,min_detection_confidence=0.5)\n",
    "\n",
    "#opne web cam and detect faces\n",
    "\n",
    "web_cam=cv2.VideoCapture(0)\n",
    "\n",
    "while web_cam.isOpened():\n",
    "  opened, frame=web_cam.read()\n",
    "  if not opened:\n",
    "    break\n",
    "  #converting original to rgb to use mediapipe\n",
    "  img=cv2.cvtColor(frame,cv2.COLOR_BGR2RGB)\n",
    "\n",
    "  #proecessing the converted image to detect the face\n",
    "  result=face_detection.process(img)\n",
    "\n",
    "  #convert the rgb image to original image\n",
    "  img=cv2.cvtColor(img,cv2.COLOR_RGB2BGR)\n",
    "\n",
    "  #draw face detection\n",
    "  if result.detections:\n",
    "    for detection in result.detections:\n",
    "      drawing.draw_detection(img, detection)\n",
    "\n",
    "  cv2.imshow('Face_Detecting',img)\n",
    "\n",
    "  if cv2.waitKey(1) &0xFF==ord('q'):\n",
    "    break\n",
    "web_cam.release()\n",
    "cv2.destroyAllWindows()"
   ]
  },
  {
   "cell_type": "code",
   "execution_count": null,
   "id": "7f0a64a0-90fa-4ce5-8ba4-2878fe99eddc",
   "metadata": {},
   "outputs": [],
   "source": [
    "import os\n",
    "import cv2\n",
    "import mediapipe as mp\n",
    "img=cv2.imread(os.path.join('Harry_Potter.jpg'))\n",
    "#detect face\n",
    "mp_face=mp.solutions.face_detection\n",
    "drawing=mp.solutions.drawing_utils\n",
    "with mp_face.FaceDetection(min_detection_confidence=0.5,model_selection=0) as face_detection:\n",
    "    img_rgb=cv2.cvtColor(img,cv2.COLOR_BGR2RGB)\n",
    "    out=face_detection.process(img_rgb)\n",
    "    for detection in out.detections:\n",
    "        result\n",
    "      "
   ]
  },
  {
   "cell_type": "code",
   "execution_count": null,
   "id": "eb27710a",
   "metadata": {},
   "outputs": [],
   "source": []
  }
 ],
 "metadata": {
  "kernelspec": {
   "display_name": "Python 3 (ipykernel)",
   "language": "python",
   "name": "python3"
  },
  "language_info": {
   "codemirror_mode": {
    "name": "ipython",
    "version": 3
   },
   "file_extension": ".py",
   "mimetype": "text/x-python",
   "name": "python",
   "nbconvert_exporter": "python",
   "pygments_lexer": "ipython3",
   "version": "3.12.7"
  }
 },
 "nbformat": 4,
 "nbformat_minor": 5
}
